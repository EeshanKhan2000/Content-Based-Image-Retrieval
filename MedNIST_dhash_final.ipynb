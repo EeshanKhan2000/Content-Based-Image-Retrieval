{
  "nbformat": 4,
  "nbformat_minor": 0,
  "metadata": {
    "kernelspec": {
      "display_name": "Python 3",
      "language": "python",
      "name": "python3"
    },
    "language_info": {
      "codemirror_mode": {
        "name": "ipython",
        "version": 3
      },
      "file_extension": ".py",
      "mimetype": "text/x-python",
      "name": "python",
      "nbconvert_exporter": "python",
      "pygments_lexer": "ipython3",
      "version": "3.7.7"
    },
    "colab": {
      "name": "MedNIST_dhash_final.ipynb",
      "provenance": [],
      "collapsed_sections": []
    }
  },
  "cells": [
    {
      "cell_type": "code",
      "metadata": {
        "id": "QAvhSgN4v8vP"
      },
      "source": [
        "!wget -q https://www.dropbox.com/s/5wwskxctvcxiuea/MedNIST.tar.gz"
      ],
      "execution_count": 1,
      "outputs": []
    },
    {
      "cell_type": "code",
      "metadata": {
        "id": "i0YZV_Ylv8vR"
      },
      "source": [
        "import shutil\n",
        "shutil.unpack_archive(\"MedNIST.tar.gz\", \"Dataset\")"
      ],
      "execution_count": 2,
      "outputs": []
    },
    {
      "cell_type": "code",
      "metadata": {
        "id": "9Frrm4acv8vS"
      },
      "source": [
        "import numpy as np\n",
        "import cv2\n",
        "import os\n",
        "import pickle\n",
        "from google.colab.patches import cv2_imshow"
      ],
      "execution_count": 1,
      "outputs": []
    },
    {
      "cell_type": "code",
      "metadata": {
        "id": "kk8kbWK7v8vS"
      },
      "source": [
        "class VPTree:\n",
        "\n",
        "    \"\"\" VP-Tree data structure for efficient nearest neighbor search.\n",
        "    The VP-tree is a data structure for efficient nearest neighbor\n",
        "    searching and finds the nearest neighbor in O(log n)\n",
        "    complexity given a tree constructed of n data points. Construction\n",
        "    complexity is O(n log n).\n",
        "    Parameters\n",
        "    ----------\n",
        "    points : Iterable\n",
        "        Construction points.\n",
        "    dist_fn : \n",
        "        Function taking to point instances as arguments and returning\n",
        "        the distance between them.\n",
        "    \"\"\"\n",
        "\n",
        "    def __init__(self, points, dist_fn):\n",
        "        self.left = None\n",
        "        self.right = None\n",
        "        self.left_min = np.inf\n",
        "        self.left_max = 0\n",
        "        self.right_min = np.inf\n",
        "        self.right_max = 0\n",
        "        self.dist_fn = dist_fn\n",
        "\n",
        "        if not len(points):\n",
        "            raise ValueError('Points can not be empty.')\n",
        "\n",
        "        # Vantage point is point furthest from parent vp.\n",
        "        vp_i = 0\n",
        "        self.vp = points[vp_i]\n",
        "        points = np.delete(points, vp_i, axis=0)\n",
        "\n",
        "        if len(points) == 0:\n",
        "            return\n",
        "\n",
        "        # Choose division boundary at median of distances.\n",
        "        distances = [self.dist_fn(self.vp, p) for p in points]\n",
        "        median = np.median(distances)\n",
        "\n",
        "        left_points = []\n",
        "        right_points = []\n",
        "        for point, distance in zip(points, distances):\n",
        "            if distance >= median:\n",
        "                self.right_min = min(distance, self.right_min)\n",
        "                if distance > self.right_max:\n",
        "                    self.right_max = distance\n",
        "                    right_points.insert(0, point) # put furthest first\n",
        "                else:\n",
        "                    right_points.append(point)\n",
        "            else:\n",
        "                self.left_min = min(distance, self.left_min)\n",
        "                if distance > self.left_max:\n",
        "                    self.left_max = distance\n",
        "                    left_points.insert(0, point) # put furthest first\n",
        "                else:\n",
        "                    left_points.append(point)\n",
        "\n",
        "        if len(left_points) > 0:\n",
        "            self.left = VPTree(points=left_points, dist_fn=self.dist_fn)\n",
        "\n",
        "        if len(right_points) > 0:\n",
        "            self.right = VPTree(points=right_points, dist_fn=self.dist_fn)\n",
        "\n",
        "    def _is_leaf(self):\n",
        "        return (self.left is None) and (self.right is None)\n",
        "\n",
        "    def get_nearest_neighbor(self, query):\n",
        "        \"\"\" Get single nearest neighbor.\n",
        "        \n",
        "        Parameters\n",
        "        ----------\n",
        "        query : Any\n",
        "            Query point.\n",
        "        Returns\n",
        "        -------\n",
        "        Any\n",
        "            Single nearest neighbor.\n",
        "        \"\"\"\n",
        "        return self.get_n_nearest_neighbors(query, n_neighbors=1)[0]\n",
        "\n",
        "    def get_n_nearest_neighbors(self, query, n_neighbors):\n",
        "        \"\"\" Get `n_neighbors` nearest neigbors to `query`\n",
        "        \n",
        "        Parameters\n",
        "        ----------\n",
        "        query : Any\n",
        "            Query point.\n",
        "        n_neighbors : int\n",
        "            Number of neighbors to fetch.\n",
        "        Returns\n",
        "        -------\n",
        "        list\n",
        "            List of `n_neighbors` nearest neighbors.\n",
        "        \"\"\"\n",
        "        if not isinstance(n_neighbors, int) or n_neighbors < 1:\n",
        "            raise ValueError('n_neighbors must be strictly positive integer')\n",
        "        neighbors = _AutoSortingList(max_size=n_neighbors)\n",
        "        nodes_to_visit = [(self, 0)]\n",
        "\n",
        "        furthest_d = np.inf\n",
        "\n",
        "        while len(nodes_to_visit) > 0:\n",
        "            node, d0 = nodes_to_visit.pop(0)\n",
        "            if node is None or d0 > furthest_d:\n",
        "                continue\n",
        "\n",
        "            d = self.dist_fn(query, node.vp)\n",
        "            if d < furthest_d:\n",
        "                neighbors.append((d, node.vp))\n",
        "                furthest_d, _ = neighbors[-1]\n",
        "\n",
        "            if node._is_leaf():\n",
        "                continue\n",
        "\n",
        "            if node.left_min <= d <= node.left_max:\n",
        "                nodes_to_visit.insert(0, (node.left, 0))\n",
        "            elif node.left_min - furthest_d <= d <= node.left_max + furthest_d:\n",
        "                nodes_to_visit.append((node.left,\n",
        "                                       node.left_min - d if d < node.left_min\n",
        "                                       else d - node.left_max))\n",
        "\n",
        "            if node.right_min <= d <= node.right_max:\n",
        "                nodes_to_visit.insert(0, (node.right, 0))\n",
        "            elif node.right_min - furthest_d <= d <= node.right_max + furthest_d:\n",
        "                nodes_to_visit.append((node.right,\n",
        "                                       node.right_min - d if d < node.right_min\n",
        "                                       else d - node.right_max))\n",
        "\n",
        "        return list(neighbors)\n",
        "\n",
        "    def get_all_in_range(self, query, max_distance):\n",
        "        \"\"\" Find all neighbours within `max_distance`.\n",
        "        Parameters\n",
        "        ----------\n",
        "        query : Any\n",
        "            Query point.\n",
        "        max_distance : float\n",
        "            Threshold distance for query.\n",
        "        Returns\n",
        "        -------\n",
        "        neighbors : list\n",
        "            List of points within `max_distance`.\n",
        "        Notes\n",
        "        -----\n",
        "        Returned neighbors are not sorted according to distance.\n",
        "        \"\"\"\n",
        "        neighbors = list()\n",
        "        nodes_to_visit = [(self, 0)]\n",
        "\n",
        "        while len(nodes_to_visit) > 0:\n",
        "            node, d0 = nodes_to_visit.pop(0)\n",
        "            if node is None or d0 > max_distance:\n",
        "                continue\n",
        "\n",
        "            d = self.dist_fn(query, node.vp)\n",
        "            if d < max_distance:\n",
        "                neighbors.append((d, node.vp))\n",
        "\n",
        "            if node._is_leaf():\n",
        "                continue\n",
        "\n",
        "            if node.left_min <= d <= node.left_max:\n",
        "                nodes_to_visit.insert(0, (node.left, 0))\n",
        "            elif node.left_min - max_distance <= d <= node.left_max + max_distance:\n",
        "                nodes_to_visit.append((node.left,\n",
        "                                       node.left_min - d if d < node.left_min\n",
        "                                       else d - node.left_max))\n",
        "\n",
        "            if node.right_min <= d <= node.right_max:\n",
        "                nodes_to_visit.insert(0, (node.right, 0))\n",
        "            elif node.right_min - max_distance <= d <= node.right_max + max_distance:\n",
        "                nodes_to_visit.append((node.right,\n",
        "                                       node.right_min - d if d < node.right_min\n",
        "                                       else d - node.right_max))\n",
        "\n",
        "        return neighbors\n",
        "\n",
        "\n",
        "class _AutoSortingList(list):\n",
        "\n",
        "    \"\"\" Simple auto-sorting list.\n",
        "    Inefficient for large sizes since the queue is sorted at\n",
        "    each push.\n",
        "    Parameters\n",
        "    ---------\n",
        "    size : int, optional\n",
        "        Max queue size.\n",
        "    \"\"\"\n",
        "\n",
        "    def __init__(self, max_size=None, *args):\n",
        "        super(_AutoSortingList, self).__init__(*args)\n",
        "        self.max_size = max_size\n",
        "\n",
        "    def append(self, item):\n",
        "        \"\"\" Append `item` and sort.\n",
        "        Parameters\n",
        "        ----------\n",
        "        item : Any\n",
        "            Input item.\n",
        "        \"\"\"\n",
        "        super(_AutoSortingList, self).append(item)\n",
        "        self.sort(key=lambda x: x[0])\n",
        "        if self.max_size is not None and len(self) > self.max_size:\n",
        "            self.pop()"
      ],
      "execution_count": 2,
      "outputs": []
    },
    {
      "cell_type": "code",
      "metadata": {
        "id": "5UTXdiESv8vX"
      },
      "source": [
        "def dhash(image,hashSize=8):\n",
        "    gray = cv2.cvtColor(image, cv2.COLOR_BGR2GRAY)\n",
        "    resized = cv2.resize(gray, (hashSize + 1, hashSize))\n",
        "    diff = resized[:, 1:] > resized[:, :-1]\n",
        "    return sum([2 ** i for (i, v) in enumerate(diff.flatten()) if v])"
      ],
      "execution_count": 3,
      "outputs": []
    },
    {
      "cell_type": "code",
      "metadata": {
        "id": "SvYqA6BLv8vZ"
      },
      "source": [
        "image_dict = {}\n",
        "def hash(h,name,category):\n",
        "    h = int(np.array(h, dtype=\"float64\"))\n",
        "    l = image_dict.get(h,[])\n",
        "    l.append((name,category))\n",
        "    image_dict[h] = l"
      ],
      "execution_count": 4,
      "outputs": []
    },
    {
      "cell_type": "code",
      "metadata": {
        "id": "HKnp7bC3v8vZ"
      },
      "source": [
        "def hamming(a, b):\n",
        "\treturn bin(int(a) ^ int(b)).count(\"1\")"
      ],
      "execution_count": 5,
      "outputs": []
    },
    {
      "cell_type": "code",
      "metadata": {
        "id": "tjtLTqJJv8vZ"
      },
      "source": [
        "datapath = 'Dataset/MedNIST'\n",
        "train_points,test_points,y_train,y_test = [],[],[],[]\n",
        "labels = ['AbdomenCT', 'BreastMRI', 'CXR', 'ChestCT', 'Hand', 'HeadCT']\n",
        "label_dict = {'AbdomenCT': 0, 'BreastMRI': 1, 'ChestCT': 2, 'CXR': 3, 'Hand': 4, 'HeadCT': 5}\n",
        "\n",
        "test_frac = 0.01\n",
        "num_total = 58954\n",
        "def dataloader(datapath):\n",
        "    for category in os.listdir(datapath):\n",
        "        path = os.path.join(datapath,category)\n",
        "        i = 1\n",
        "        for img_name in os.listdir(path):\n",
        "            img = os.path.join(path,img_name)\n",
        "            image = cv2.imread(img)\n",
        "            h = dhash(image)\n",
        "            hash(h,img,label_dict[category])\n",
        "            if i%100 == 0:\n",
        "                test_points.append(h)\n",
        "                y_test.append(label_dict[category])\n",
        "            else:\n",
        "                train_points.append(h)\n",
        "                y_train.append(label_dict[category])\n",
        "            i += 1"
      ],
      "execution_count": 6,
      "outputs": []
    },
    {
      "cell_type": "code",
      "metadata": {
        "id": "577NKsa7v8va"
      },
      "source": [
        "dataloader(datapath)"
      ],
      "execution_count": 7,
      "outputs": []
    },
    {
      "cell_type": "code",
      "metadata": {
        "colab": {
          "base_uri": "https://localhost:8080/"
        },
        "id": "RLWr69xZv8va",
        "outputId": "1dffe64a-7d58-450b-8a29-1481823cbd14"
      },
      "source": [
        "print(len(train_points))\n",
        "print(len(test_points))\n",
        "#print(len(test_points[1]))\n",
        "print(test_points[1])"
      ],
      "execution_count": 8,
      "outputs": [
        {
          "output_type": "stream",
          "text": [
            "58365\n",
            "589\n",
            "3395466297735861022\n"
          ],
          "name": "stdout"
        }
      ]
    },
    {
      "cell_type": "code",
      "metadata": {
        "id": "JWTVDBN7v8va"
      },
      "source": [
        "tree = VPTree(train_points,hamming)"
      ],
      "execution_count": 9,
      "outputs": []
    },
    {
      "cell_type": "code",
      "metadata": {
        "id": "G8ZseIzQv8vb"
      },
      "source": [
        "tree_path = 'dhash_tree.pickle'\n",
        "f = open(tree_path, \"wb\")\n",
        "f.write(pickle.dumps(tree))\n",
        "f.close()\n",
        "\n",
        "directory_path = 'dhash_image_directory.pickle'\n",
        "f = open(directory_path,\"wb\")\n",
        "f.write(pickle.dumps(image_dict))\n",
        "f.close()"
      ],
      "execution_count": 10,
      "outputs": []
    },
    {
      "cell_type": "code",
      "metadata": {
        "colab": {
          "base_uri": "https://localhost:8080/"
        },
        "id": "nGLvc2wVFQqY",
        "outputId": "955db06c-a26f-4ada-e62c-98fdd56f070e"
      },
      "source": [
        "#print(image_dict[train_points[1]])\n",
        "print(image_dict[0])\n",
        "w = list(image_dict.keys())\n",
        "print(w[0])\n",
        "print(image_dict[508642116139703168])"
      ],
      "execution_count": 11,
      "outputs": [
        {
          "output_type": "stream",
          "text": [
            "[('Dataset/MedNIST/HeadCT/004945.jpeg', 5), ('Dataset/MedNIST/HeadCT/001043.jpeg', 5), ('Dataset/MedNIST/HeadCT/008425.jpeg', 5), ('Dataset/MedNIST/HeadCT/000044.jpeg', 5), ('Dataset/MedNIST/HeadCT/004028.jpeg', 5), ('Dataset/MedNIST/HeadCT/001160.jpeg', 5), ('Dataset/MedNIST/HeadCT/007405.jpeg', 5), ('Dataset/MedNIST/HeadCT/004308.jpeg', 5), ('Dataset/MedNIST/HeadCT/001251.jpeg', 5), ('Dataset/MedNIST/HeadCT/000046.jpeg', 5), ('Dataset/MedNIST/HeadCT/000555.jpeg', 5), ('Dataset/MedNIST/HeadCT/006876.jpeg', 5), ('Dataset/MedNIST/HeadCT/009083.jpeg', 5), ('Dataset/MedNIST/HeadCT/008913.jpeg', 5), ('Dataset/MedNIST/HeadCT/007513.jpeg', 5), ('Dataset/MedNIST/HeadCT/007118.jpeg', 5), ('Dataset/MedNIST/HeadCT/004152.jpeg', 5), ('Dataset/MedNIST/HeadCT/006275.jpeg', 5), ('Dataset/MedNIST/HeadCT/001778.jpeg', 5), ('Dataset/MedNIST/HeadCT/005737.jpeg', 5), ('Dataset/MedNIST/HeadCT/009459.jpeg', 5), ('Dataset/MedNIST/HeadCT/002691.jpeg', 5), ('Dataset/MedNIST/HeadCT/006993.jpeg', 5), ('Dataset/MedNIST/HeadCT/006283.jpeg', 5), ('Dataset/MedNIST/HeadCT/006236.jpeg', 5), ('Dataset/MedNIST/HeadCT/005670.jpeg', 5), ('Dataset/MedNIST/HeadCT/007060.jpeg', 5), ('Dataset/MedNIST/HeadCT/006205.jpeg', 5), ('Dataset/MedNIST/HeadCT/005644.jpeg', 5), ('Dataset/MedNIST/HeadCT/003265.jpeg', 5), ('Dataset/MedNIST/HeadCT/000422.jpeg', 5), ('Dataset/MedNIST/HeadCT/000380.jpeg', 5), ('Dataset/MedNIST/HeadCT/004416.jpeg', 5), ('Dataset/MedNIST/HeadCT/007399.jpeg', 5), ('Dataset/MedNIST/HeadCT/002260.jpeg', 5), ('Dataset/MedNIST/HeadCT/007355.jpeg', 5), ('Dataset/MedNIST/HeadCT/001471.jpeg', 5), ('Dataset/MedNIST/HeadCT/002341.jpeg', 5), ('Dataset/MedNIST/HeadCT/008072.jpeg', 5), ('Dataset/MedNIST/HeadCT/007176.jpeg', 5), ('Dataset/MedNIST/HeadCT/007091.jpeg', 5), ('Dataset/MedNIST/HeadCT/003165.jpeg', 5), ('Dataset/MedNIST/HeadCT/006769.jpeg', 5), ('Dataset/MedNIST/HeadCT/000228.jpeg', 5), ('Dataset/MedNIST/HeadCT/008922.jpeg', 5), ('Dataset/MedNIST/HeadCT/003239.jpeg', 5), ('Dataset/MedNIST/HeadCT/001775.jpeg', 5), ('Dataset/MedNIST/HeadCT/004160.jpeg', 5), ('Dataset/MedNIST/HeadCT/006261.jpeg', 5), ('Dataset/MedNIST/HeadCT/005218.jpeg', 5), ('Dataset/MedNIST/HeadCT/008083.jpeg', 5), ('Dataset/MedNIST/HeadCT/000585.jpeg', 5), ('Dataset/MedNIST/HeadCT/006174.jpeg', 5), ('Dataset/MedNIST/HeadCT/003945.jpeg', 5), ('Dataset/MedNIST/HeadCT/009969.jpeg', 5), ('Dataset/MedNIST/HeadCT/009524.jpeg', 5), ('Dataset/MedNIST/HeadCT/005773.jpeg', 5), ('Dataset/MedNIST/HeadCT/007102.jpeg', 5), ('Dataset/MedNIST/HeadCT/003887.jpeg', 5), ('Dataset/MedNIST/HeadCT/003542.jpeg', 5), ('Dataset/MedNIST/HeadCT/002488.jpeg', 5), ('Dataset/MedNIST/HeadCT/005478.jpeg', 5), ('Dataset/MedNIST/HeadCT/004024.jpeg', 5), ('Dataset/MedNIST/HeadCT/002065.jpeg', 5), ('Dataset/MedNIST/HeadCT/007069.jpeg', 5), ('Dataset/MedNIST/HeadCT/001497.jpeg', 5), ('Dataset/MedNIST/HeadCT/003547.jpeg', 5), ('Dataset/MedNIST/HeadCT/008040.jpeg', 5), ('Dataset/MedNIST/HeadCT/002889.jpeg', 5), ('Dataset/MedNIST/HeadCT/000548.jpeg', 5), ('Dataset/MedNIST/HeadCT/004974.jpeg', 5), ('Dataset/MedNIST/HeadCT/000374.jpeg', 5), ('Dataset/MedNIST/HeadCT/006933.jpeg', 5), ('Dataset/MedNIST/HeadCT/006216.jpeg', 5), ('Dataset/MedNIST/HeadCT/007017.jpeg', 5), ('Dataset/MedNIST/HeadCT/007200.jpeg', 5), ('Dataset/MedNIST/HeadCT/008571.jpeg', 5), ('Dataset/MedNIST/HeadCT/005968.jpeg', 5), ('Dataset/MedNIST/HeadCT/004201.jpeg', 5), ('Dataset/MedNIST/HeadCT/000050.jpeg', 5), ('Dataset/MedNIST/HeadCT/006529.jpeg', 5), ('Dataset/MedNIST/HeadCT/002203.jpeg', 5), ('Dataset/MedNIST/HeadCT/007461.jpeg', 5), ('Dataset/MedNIST/HeadCT/006654.jpeg', 5), ('Dataset/MedNIST/HeadCT/008971.jpeg', 5), ('Dataset/MedNIST/HeadCT/003160.jpeg', 5), ('Dataset/MedNIST/HeadCT/003660.jpeg', 5), ('Dataset/MedNIST/HeadCT/008579.jpeg', 5), ('Dataset/MedNIST/HeadCT/002133.jpeg', 5), ('Dataset/MedNIST/HeadCT/003645.jpeg', 5), ('Dataset/MedNIST/HeadCT/002508.jpeg', 5), ('Dataset/MedNIST/HeadCT/000632.jpeg', 5), ('Dataset/MedNIST/HeadCT/002885.jpeg', 5), ('Dataset/MedNIST/HeadCT/002510.jpeg', 5), ('Dataset/MedNIST/HeadCT/002806.jpeg', 5), ('Dataset/MedNIST/HeadCT/000054.jpeg', 5), ('Dataset/MedNIST/HeadCT/009762.jpeg', 5), ('Dataset/MedNIST/HeadCT/005671.jpeg', 5), ('Dataset/MedNIST/HeadCT/005419.jpeg', 5), ('Dataset/MedNIST/HeadCT/006728.jpeg', 5), ('Dataset/MedNIST/HeadCT/009954.jpeg', 5)]\n",
            "508642116139703168\n",
            "[('Dataset/MedNIST/CXR/003817.jpeg', 3)]\n"
          ],
          "name": "stdout"
        }
      ]
    },
    {
      "cell_type": "code",
      "metadata": {
        "colab": {
          "base_uri": "https://localhost:8080/"
        },
        "id": "6zH-EkR7v8vb",
        "outputId": "a728fd7e-a1c5-454c-80c1-e334a7632f7a"
      },
      "source": [
        "from tqdm import tqdm\n",
        "y_pred = []\n",
        "y_top_five = []\n",
        "for i in tqdm(range(len(test_points))):\n",
        "    query_features = test_points[i]\n",
        "    results = tree.get_n_nearest_neighbors(query_features,5)\n",
        "    temp = []\n",
        "    for (d,h) in results:\n",
        "        resultPaths = image_dict.get(h,[])\n",
        "        if len(resultPaths) != 0:\n",
        "          category = resultPaths[0][1]\n",
        "        temp.append(category)\n",
        "        y_top_five.append(temp)\n",
        "    y_pred.append(temp[0])"
      ],
      "execution_count": 12,
      "outputs": [
        {
          "output_type": "stream",
          "text": [
            "100%|██████████| 589/589 [00:33<00:00, 17.84it/s]\n"
          ],
          "name": "stderr"
        }
      ]
    },
    {
      "cell_type": "code",
      "metadata": {
        "colab": {
          "base_uri": "https://localhost:8080/"
        },
        "id": "058cxULYFZCH",
        "outputId": "4ca8a2ed-2f38-49b9-da02-669c37de5038"
      },
      "source": [
        "print(resultPaths)\n",
        "print(temp)\n",
        "print(y_pred)\n",
        "print(results)"
      ],
      "execution_count": 14,
      "outputs": [
        {
          "output_type": "stream",
          "text": [
            "[]\n",
            "[3, 3]\n",
            "[3, 3, 3, 3, 3, 3, 3, 3, 3, 3, 3, 3, 3, 3, 3, 3, 3, 3, 3, 3, 3, 3, 3, 3, 3, 3, 3, 3, 3, 3, 3, 3, 3, 3, 3, 3, 3, 3, 3, 3]\n",
            "[(10, 5.063900242522355e+17), (11, 5.06390026701643e+17), (12, 508642116139703198)]\n"
          ],
          "name": "stdout"
        }
      ]
    },
    {
      "cell_type": "code",
      "metadata": {
        "colab": {
          "base_uri": "https://localhost:8080/"
        },
        "id": "u0QK1tEpv8vb",
        "outputId": "079038e2-2fde-4133-f79b-2af0dd735668"
      },
      "source": [
        "print(len(y_top_five))\n",
        "print(y_top_five[:5])\n",
        "print(y_test[:6])"
      ],
      "execution_count": 13,
      "outputs": [
        {
          "output_type": "stream",
          "text": [
            "2943\n",
            "[[3, 3, 3, 3, 3], [3, 3, 3, 3, 3], [3, 3, 3, 3, 3], [3, 3, 3, 3, 3], [3, 3, 3, 3, 3]]\n",
            "[3, 3, 3, 3, 3, 3]\n"
          ],
          "name": "stdout"
        }
      ]
    },
    {
      "cell_type": "code",
      "metadata": {
        "colab": {
          "base_uri": "https://localhost:8080/"
        },
        "id": "V0TtbiKQK8CA",
        "outputId": "24755fdd-323f-42ab-d3f1-d98464d7fd17"
      },
      "source": [
        "print(len(y_pred))\n",
        "print(len(y_test))\n",
        "print(y_test)\n",
        "print(y_pred)"
      ],
      "execution_count": 15,
      "outputs": [
        {
          "output_type": "stream",
          "text": [
            "589\n",
            "589\n",
            "[3, 3, 3, 3, 3, 3, 3, 3, 3, 3, 3, 3, 3, 3, 3, 3, 3, 3, 3, 3, 3, 3, 3, 3, 3, 3, 3, 3, 3, 3, 3, 3, 3, 3, 3, 3, 3, 3, 3, 3, 3, 3, 3, 3, 3, 3, 3, 3, 3, 3, 3, 3, 3, 3, 3, 3, 3, 3, 3, 3, 3, 3, 3, 3, 3, 3, 3, 3, 3, 3, 3, 3, 3, 3, 3, 3, 3, 3, 3, 3, 3, 3, 3, 3, 3, 3, 3, 3, 3, 3, 3, 3, 3, 3, 3, 3, 3, 3, 3, 3, 4, 4, 4, 4, 4, 4, 4, 4, 4, 4, 4, 4, 4, 4, 4, 4, 4, 4, 4, 4, 4, 4, 4, 4, 4, 4, 4, 4, 4, 4, 4, 4, 4, 4, 4, 4, 4, 4, 4, 4, 4, 4, 4, 4, 4, 4, 4, 4, 4, 4, 4, 4, 4, 4, 4, 4, 4, 4, 4, 4, 4, 4, 4, 4, 4, 4, 4, 4, 4, 4, 4, 4, 4, 4, 4, 4, 4, 4, 4, 4, 4, 4, 4, 4, 4, 4, 4, 4, 4, 4, 4, 4, 4, 4, 4, 4, 4, 4, 4, 4, 1, 1, 1, 1, 1, 1, 1, 1, 1, 1, 1, 1, 1, 1, 1, 1, 1, 1, 1, 1, 1, 1, 1, 1, 1, 1, 1, 1, 1, 1, 1, 1, 1, 1, 1, 1, 1, 1, 1, 1, 1, 1, 1, 1, 1, 1, 1, 1, 1, 1, 1, 1, 1, 1, 1, 1, 1, 1, 1, 1, 1, 1, 1, 1, 1, 1, 1, 1, 1, 1, 1, 1, 1, 1, 1, 1, 1, 1, 1, 1, 1, 1, 1, 1, 1, 1, 1, 1, 1, 0, 0, 0, 0, 0, 0, 0, 0, 0, 0, 0, 0, 0, 0, 0, 0, 0, 0, 0, 0, 0, 0, 0, 0, 0, 0, 0, 0, 0, 0, 0, 0, 0, 0, 0, 0, 0, 0, 0, 0, 0, 0, 0, 0, 0, 0, 0, 0, 0, 0, 0, 0, 0, 0, 0, 0, 0, 0, 0, 0, 0, 0, 0, 0, 0, 0, 0, 0, 0, 0, 0, 0, 0, 0, 0, 0, 0, 0, 0, 0, 0, 0, 0, 0, 0, 0, 0, 0, 0, 0, 0, 0, 0, 0, 0, 0, 0, 0, 0, 0, 5, 5, 5, 5, 5, 5, 5, 5, 5, 5, 5, 5, 5, 5, 5, 5, 5, 5, 5, 5, 5, 5, 5, 5, 5, 5, 5, 5, 5, 5, 5, 5, 5, 5, 5, 5, 5, 5, 5, 5, 5, 5, 5, 5, 5, 5, 5, 5, 5, 5, 5, 5, 5, 5, 5, 5, 5, 5, 5, 5, 5, 5, 5, 5, 5, 5, 5, 5, 5, 5, 5, 5, 5, 5, 5, 5, 5, 5, 5, 5, 5, 5, 5, 5, 5, 5, 5, 5, 5, 5, 5, 5, 5, 5, 5, 5, 5, 5, 5, 5, 2, 2, 2, 2, 2, 2, 2, 2, 2, 2, 2, 2, 2, 2, 2, 2, 2, 2, 2, 2, 2, 2, 2, 2, 2, 2, 2, 2, 2, 2, 2, 2, 2, 2, 2, 2, 2, 2, 2, 2, 2, 2, 2, 2, 2, 2, 2, 2, 2, 2, 2, 2, 2, 2, 2, 2, 2, 2, 2, 2, 2, 2, 2, 2, 2, 2, 2, 2, 2, 2, 2, 2, 2, 2, 2, 2, 2, 2, 2, 2, 2, 2, 2, 2, 2, 2, 2, 2, 2, 2, 2, 2, 2, 2, 2, 2, 2, 2, 2, 2]\n",
            "[3, 3, 3, 3, 3, 3, 3, 3, 3, 3, 3, 3, 3, 3, 3, 3, 3, 3, 3, 3, 3, 3, 3, 3, 3, 3, 3, 3, 3, 3, 3, 3, 3, 3, 3, 3, 3, 3, 3, 3, 3, 3, 3, 3, 3, 3, 3, 3, 3, 3, 3, 3, 3, 3, 3, 3, 3, 3, 3, 3, 3, 3, 3, 3, 3, 3, 3, 3, 3, 3, 3, 3, 3, 3, 3, 3, 3, 3, 3, 3, 3, 3, 3, 3, 3, 3, 3, 3, 3, 3, 3, 3, 3, 3, 3, 3, 3, 3, 3, 3, 4, 4, 4, 4, 4, 4, 4, 4, 4, 4, 4, 4, 4, 4, 4, 4, 4, 4, 4, 3, 4, 4, 4, 4, 3, 4, 4, 4, 4, 4, 4, 4, 4, 4, 4, 4, 4, 4, 4, 4, 4, 4, 4, 4, 4, 4, 4, 4, 4, 4, 3, 4, 4, 4, 4, 4, 4, 4, 4, 4, 5, 4, 4, 4, 4, 4, 4, 4, 4, 4, 4, 4, 4, 4, 4, 4, 4, 4, 4, 4, 3, 4, 4, 4, 4, 4, 4, 4, 4, 4, 4, 4, 4, 4, 4, 4, 4, 4, 4, 4, 1, 1, 1, 1, 1, 1, 1, 1, 1, 1, 1, 1, 1, 1, 1, 1, 1, 1, 1, 1, 1, 1, 1, 1, 1, 1, 1, 1, 1, 1, 1, 1, 1, 1, 1, 1, 1, 1, 1, 1, 1, 1, 1, 1, 1, 1, 1, 1, 1, 1, 1, 1, 1, 1, 1, 1, 1, 1, 1, 1, 1, 1, 1, 1, 1, 1, 1, 1, 1, 1, 1, 1, 1, 1, 1, 1, 1, 1, 1, 1, 1, 1, 1, 1, 1, 1, 1, 1, 1, 0, 2, 0, 0, 0, 0, 0, 0, 0, 0, 0, 0, 0, 0, 0, 0, 0, 0, 0, 0, 0, 0, 0, 0, 0, 0, 1, 0, 0, 0, 0, 0, 0, 0, 0, 0, 0, 0, 0, 0, 0, 0, 0, 0, 0, 0, 0, 0, 0, 0, 0, 0, 0, 0, 0, 0, 0, 0, 0, 0, 0, 0, 0, 0, 0, 0, 0, 0, 0, 0, 0, 0, 0, 0, 0, 0, 0, 0, 0, 0, 0, 0, 0, 0, 0, 0, 0, 0, 0, 0, 0, 0, 0, 0, 0, 0, 0, 0, 0, 0, 5, 5, 5, 5, 5, 5, 5, 5, 5, 5, 5, 5, 5, 5, 5, 5, 5, 5, 5, 5, 5, 5, 5, 5, 5, 5, 5, 5, 5, 5, 5, 5, 5, 5, 5, 5, 5, 5, 0, 5, 5, 5, 5, 5, 5, 5, 5, 5, 5, 5, 5, 5, 5, 5, 5, 5, 5, 5, 5, 5, 5, 5, 5, 5, 5, 5, 5, 5, 5, 5, 5, 5, 5, 5, 5, 5, 5, 5, 5, 5, 5, 0, 3, 5, 5, 5, 5, 5, 5, 5, 5, 5, 5, 5, 5, 5, 5, 5, 5, 5, 2, 2, 2, 0, 2, 2, 2, 2, 2, 2, 2, 2, 2, 2, 2, 2, 2, 5, 2, 2, 2, 1, 0, 5, 2, 0, 2, 2, 2, 2, 2, 2, 2, 2, 1, 2, 2, 2, 2, 2, 2, 2, 2, 2, 1, 2, 2, 2, 2, 2, 2, 2, 2, 2, 1, 2, 2, 0, 2, 2, 2, 2, 2, 0, 2, 2, 2, 2, 2, 2, 0, 2, 2, 5, 2, 2, 2, 2, 2, 2, 4, 2, 2, 1, 2, 2, 2, 2, 2, 2, 1, 0, 5, 2, 5, 2, 2, 2, 2, 2]\n"
          ],
          "name": "stdout"
        }
      ]
    },
    {
      "cell_type": "code",
      "metadata": {
        "colab": {
          "base_uri": "https://localhost:8080/"
        },
        "id": "Yz-EgRRSv8vc",
        "outputId": "a2f8edfd-5bb6-41cc-bc58-2f3c1fc8e9d6"
      },
      "source": [
        "from sklearn.metrics import classification_report\n",
        "print(classification_report(y_test, y_pred, target_names=labels, digits=4))"
      ],
      "execution_count": 16,
      "outputs": [
        {
          "output_type": "stream",
          "text": [
            "              precision    recall  f1-score   support\n",
            "\n",
            "   AbdomenCT     0.9159    0.9800    0.9469       100\n",
            "   BreastMRI     0.9271    1.0000    0.9622        89\n",
            "         CXR     0.9878    0.8100    0.8901       100\n",
            "     ChestCT     0.9524    1.0000    0.9756       100\n",
            "        Hand     0.9896    0.9500    0.9694       100\n",
            "      HeadCT     0.9417    0.9700    0.9557       100\n",
            "\n",
            "    accuracy                         0.9508       589\n",
            "   macro avg     0.9524    0.9517    0.9500       589\n",
            "weighted avg     0.9529    0.9508    0.9497       589\n",
            "\n"
          ],
          "name": "stdout"
        }
      ]
    },
    {
      "cell_type": "code",
      "metadata": {
        "colab": {
          "base_uri": "https://localhost:8080/"
        },
        "id": "En-oCdaMOTTH",
        "outputId": "d5521b73-6207-4b59-9dc4-7b0b787cec4b"
      },
      "source": [
        "print(len(y_top_five))"
      ],
      "execution_count": 17,
      "outputs": [
        {
          "output_type": "stream",
          "text": [
            "2943\n"
          ],
          "name": "stdout"
        }
      ]
    },
    {
      "cell_type": "code",
      "metadata": {
        "id": "_MNVKVbsO2Up"
      },
      "source": [
        "missclassified = []\n",
        "for i in range(len(y_test)):\n",
        "  if y_test[i] != y_pred[i]:\n",
        "    missclassified.append((i,y_test[i],y_pred[i]))"
      ],
      "execution_count": 18,
      "outputs": []
    },
    {
      "cell_type": "code",
      "metadata": {
        "colab": {
          "base_uri": "https://localhost:8080/"
        },
        "id": "MQ6u1_FWO4gS",
        "outputId": "93da52fc-297f-4679-9508-3f13cf09321f"
      },
      "source": [
        "print(missclassified)\n",
        "print(len(missclassified))"
      ],
      "execution_count": 20,
      "outputs": [
        {
          "output_type": "stream",
          "text": [
            "[(119, 4, 3), (124, 4, 3), (150, 4, 3), (160, 4, 5), (180, 4, 3), (290, 0, 2), (315, 0, 1), (427, 5, 0), (470, 5, 0), (471, 5, 3), (492, 2, 0), (506, 2, 5), (510, 2, 1), (511, 2, 0), (512, 2, 5), (514, 2, 0), (523, 2, 1), (533, 2, 1), (543, 2, 1), (546, 2, 0), (552, 2, 0), (559, 2, 0), (562, 2, 5), (569, 2, 4), (572, 2, 1), (579, 2, 1), (580, 2, 0), (581, 2, 5), (583, 2, 5)]\n",
            "29\n"
          ],
          "name": "stdout"
        }
      ]
    },
    {
      "cell_type": "code",
      "metadata": {
        "id": "zQ9pRSRiPanI"
      },
      "source": [
        "feature = test_points[119]\n",
        "paths = image_dict.get(feature,[])\n",
        "path = paths[0][0]\n"
      ],
      "execution_count": 21,
      "outputs": []
    },
    {
      "cell_type": "code",
      "metadata": {
        "colab": {
          "base_uri": "https://localhost:8080/",
          "height": 81
        },
        "id": "V99DVxh4PszQ",
        "outputId": "deb0fcb1-05c1-469f-be49-7e71ade633d0"
      },
      "source": [
        "miss_image = cv2.imread(path)\n",
        "cv2_imshow(miss_image)"
      ],
      "execution_count": 22,
      "outputs": [
        {
          "output_type": "display_data",
          "data": {
            "image/png": "[encoded data removed]",
            "text/plain": [
              "<PIL.Image.Image image mode=RGB size=64x64 at 0x7F6A294987D0>"
            ]
          },
          "metadata": {
            "tags": []
          }
        }
      ]
    },
    {
      "cell_type": "code",
      "metadata": {
        "colab": {
          "base_uri": "https://localhost:8080/"
        },
        "id": "kGUqxBrhPtvq",
        "outputId": "465d7c4d-4af9-4a9a-9354-016ca5c98be1"
      },
      "source": [
        "print(y_top_five[595])"
      ],
      "execution_count": 23,
      "outputs": [
        {
          "output_type": "stream",
          "text": [
            "[3, 3, 4, 3, 3]\n"
          ],
          "name": "stdout"
        }
      ]
    },
    {
      "cell_type": "code",
      "metadata": {
        "colab": {
          "base_uri": "https://localhost:8080/"
        },
        "id": "q8TpbqWGQNVF",
        "outputId": "079a1496-2c88-487b-f76b-b64ca1a8a7aa"
      },
      "source": [
        "flag = 0\n",
        "for eg in missclassified:\n",
        "  l = y_top_five[eg[0]*5]\n",
        "  for j in l:\n",
        "    if j == eg[1]:\n",
        "      flag += 1\n",
        "      break\n",
        "print(flag)"
      ],
      "execution_count": 24,
      "outputs": [
        {
          "output_type": "stream",
          "text": [
            "25\n"
          ],
          "name": "stdout"
        }
      ]
    }
  ]
}
{
 "cells": [
  {
   "cell_type": "code",
   "execution_count": 1,
   "metadata": {
    "id": "C7ERDqtVAXEU"
   },
   "outputs": [],
   "source": [
    "!wget -q https://www.dropbox.com/s/5wwskxctvcxiuea/MedNIST.tar.gz"
   ]
  },
  {
   "cell_type": "code",
   "execution_count": 2,
   "metadata": {
    "id": "Lf1xSN_bAXEX"
   },
   "outputs": [],
   "source": [
    "import shutil\n",
    "shutil.unpack_archive(\"MedNIST.tar.gz\", \"Dataset\")"
   ]
  },
  {
   "cell_type": "code",
   "execution_count": 2,
   "metadata": {
    "id": "JzZbKlXHAXEX"
   },
   "outputs": [],
   "source": [
    "import numpy as np\n",
    "import cv2\n",
    "import os\n",
    "import pickle\n",
    "from google.colab.patches import cv2_imshow"
   ]
  },
  {
   "cell_type": "code",
   "execution_count": 3,
   "metadata": {
    "id": "IddHVA8pAXEY"
   },
   "outputs": [],
   "source": [
    "class VPTree:\n",
    "\n",
    "    \"\"\" VP-Tree data structure for efficient nearest neighbor search.\n",
    "    The VP-tree is a data structure for efficient nearest neighbor\n",
    "    searching and finds the nearest neighbor in O(log n)\n",
    "    complexity given a tree constructed of n data points. Construction\n",
    "    complexity is O(n log n).\n",
    "    Parameters\n",
    "    ----------\n",
    "    points : Iterable\n",
    "        Construction points.\n",
    "    dist_fn : \n",
    "        Function taking to point instances as arguments and returning\n",
    "        the distance between them.\n",
    "    \"\"\"\n",
    "\n",
    "    def __init__(self, points, dist_fn):\n",
    "        self.left = None\n",
    "        self.right = None\n",
    "        self.left_min = np.inf\n",
    "        self.left_max = 0\n",
    "        self.right_min = np.inf\n",
    "        self.right_max = 0\n",
    "        self.dist_fn = dist_fn\n",
    "\n",
    "        if not len(points):\n",
    "            raise ValueError('Points can not be empty.')\n",
    "\n",
    "        # Vantage point is point furthest from parent vp.\n",
    "        vp_i = 0\n",
    "        self.vp = points[vp_i]\n",
    "        points = np.delete(points, vp_i, axis=0)\n",
    "\n",
    "        if len(points) == 0:\n",
    "            return\n",
    "\n",
    "        # Choose division boundary at median of distances.\n",
    "        distances = [self.dist_fn(self.vp, p) for p in points]\n",
    "        median = np.median(distances)\n",
    "\n",
    "        left_points = []\n",
    "        right_points = []\n",
    "        for point, distance in zip(points, distances):\n",
    "            if distance >= median:\n",
    "                self.right_min = min(distance, self.right_min)\n",
    "                if distance > self.right_max:\n",
    "                    self.right_max = distance\n",
    "                    right_points.insert(0, point) # put furthest first\n",
    "                else:\n",
    "                    right_points.append(point)\n",
    "            else:\n",
    "                self.left_min = min(distance, self.left_min)\n",
    "                if distance > self.left_max:\n",
    "                    self.left_max = distance\n",
    "                    left_points.insert(0, point) # put furthest first\n",
    "                else:\n",
    "                    left_points.append(point)\n",
    "\n",
    "        if len(left_points) > 0:\n",
    "            self.left = VPTree(points=left_points, dist_fn=self.dist_fn)\n",
    "\n",
    "        if len(right_points) > 0:\n",
    "            self.right = VPTree(points=right_points, dist_fn=self.dist_fn)\n",
    "\n",
    "    def _is_leaf(self):\n",
    "        return (self.left is None) and (self.right is None)\n",
    "\n",
    "    def get_nearest_neighbor(self, query):\n",
    "        \"\"\" Get single nearest neighbor.\n",
    "        \n",
    "        Parameters\n",
    "        ----------\n",
    "        query : Any\n",
    "            Query point.\n",
    "        Returns\n",
    "        -------\n",
    "        Any\n",
    "            Single nearest neighbor.\n",
    "        \"\"\"\n",
    "        return self.get_n_nearest_neighbors(query, n_neighbors=1)[0]\n",
    "\n",
    "    def get_n_nearest_neighbors(self, query, n_neighbors):\n",
    "        \"\"\" Get `n_neighbors` nearest neigbors to `query`\n",
    "        \n",
    "        Parameters\n",
    "        ----------\n",
    "        query : Any\n",
    "            Query point.\n",
    "        n_neighbors : int\n",
    "            Number of neighbors to fetch.\n",
    "        Returns\n",
    "        -------\n",
    "        list\n",
    "            List of `n_neighbors` nearest neighbors.\n",
    "        \"\"\"\n",
    "        if not isinstance(n_neighbors, int) or n_neighbors < 1:\n",
    "            raise ValueError('n_neighbors must be strictly positive integer')\n",
    "        neighbors = _AutoSortingList(max_size=n_neighbors)\n",
    "        nodes_to_visit = [(self, 0)]\n",
    "\n",
    "        furthest_d = np.inf\n",
    "\n",
    "        while len(nodes_to_visit) > 0:\n",
    "            node, d0 = nodes_to_visit.pop(0)\n",
    "            if node is None or d0 > furthest_d:\n",
    "                continue\n",
    "\n",
    "            d = self.dist_fn(query, node.vp)\n",
    "            if d < furthest_d:\n",
    "                neighbors.append((d, node.vp))\n",
    "                furthest_d, _ = neighbors[-1]\n",
    "\n",
    "            if node._is_leaf():\n",
    "                continue\n",
    "\n",
    "            if node.left_min <= d <= node.left_max:\n",
    "                nodes_to_visit.insert(0, (node.left, 0))\n",
    "            elif node.left_min - furthest_d <= d <= node.left_max + furthest_d:\n",
    "                nodes_to_visit.append((node.left,\n",
    "                                       node.left_min - d if d < node.left_min\n",
    "                                       else d - node.left_max))\n",
    "\n",
    "            if node.right_min <= d <= node.right_max:\n",
    "                nodes_to_visit.insert(0, (node.right, 0))\n",
    "            elif node.right_min - furthest_d <= d <= node.right_max + furthest_d:\n",
    "                nodes_to_visit.append((node.right,\n",
    "                                       node.right_min - d if d < node.right_min\n",
    "                                       else d - node.right_max))\n",
    "\n",
    "        return list(neighbors)\n",
    "\n",
    "    def get_all_in_range(self, query, max_distance):\n",
    "        \"\"\" Find all neighbours within `max_distance`.\n",
    "        Parameters\n",
    "        ----------\n",
    "        query : Any\n",
    "            Query point.\n",
    "        max_distance : float\n",
    "            Threshold distance for query.\n",
    "        Returns\n",
    "        -------\n",
    "        neighbors : list\n",
    "            List of points within `max_distance`.\n",
    "        Notes\n",
    "        -----\n",
    "        Returned neighbors are not sorted according to distance.\n",
    "        \"\"\"\n",
    "        neighbors = list()\n",
    "        nodes_to_visit = [(self, 0)]\n",
    "\n",
    "        while len(nodes_to_visit) > 0:\n",
    "            node, d0 = nodes_to_visit.pop(0)\n",
    "            if node is None or d0 > max_distance:\n",
    "                continue\n",
    "\n",
    "            d = self.dist_fn(query, node.vp)\n",
    "            if d < max_distance:\n",
    "                neighbors.append((d, node.vp))\n",
    "\n",
    "            if node._is_leaf():\n",
    "                continue\n",
    "\n",
    "            if node.left_min <= d <= node.left_max:\n",
    "                nodes_to_visit.insert(0, (node.left, 0))\n",
    "            elif node.left_min - max_distance <= d <= node.left_max + max_distance:\n",
    "                nodes_to_visit.append((node.left,\n",
    "                                       node.left_min - d if d < node.left_min\n",
    "                                       else d - node.left_max))\n",
    "\n",
    "            if node.right_min <= d <= node.right_max:\n",
    "                nodes_to_visit.insert(0, (node.right, 0))\n",
    "            elif node.right_min - max_distance <= d <= node.right_max + max_distance:\n",
    "                nodes_to_visit.append((node.right,\n",
    "                                       node.right_min - d if d < node.right_min\n",
    "                                       else d - node.right_max))\n",
    "\n",
    "        return neighbors\n",
    "\n",
    "\n",
    "class _AutoSortingList(list):\n",
    "\n",
    "    \"\"\" Simple auto-sorting list.\n",
    "    Inefficient for large sizes since the queue is sorted at\n",
    "    each push.\n",
    "    Parameters\n",
    "    ---------\n",
    "    size : int, optional\n",
    "        Max queue size.\n",
    "    \"\"\"\n",
    "\n",
    "    def __init__(self, max_size=None, *args):\n",
    "        super(_AutoSortingList, self).__init__(*args)\n",
    "        self.max_size = max_size\n",
    "\n",
    "    def append(self, item):\n",
    "        \"\"\" Append `item` and sort.\n",
    "        Parameters\n",
    "        ----------\n",
    "        item : Any\n",
    "            Input item.\n",
    "        \"\"\"\n",
    "        super(_AutoSortingList, self).append(item)\n",
    "        self.sort(key=lambda x: x[0])\n",
    "        if self.max_size is not None and len(self) > self.max_size:\n",
    "            self.pop()"
   ]
  },
  {
   "cell_type": "code",
   "execution_count": 4,
   "metadata": {
    "id": "kxYQQgkkAXEc"
   },
   "outputs": [],
   "source": [
    "winSize = (64,64)\n",
    "blockSize = (16,16)\n",
    "blockStride = (8,8)\n",
    "cellSize = (16,16)\n",
    "nbins = 9\n",
    "derivAperture = 1\n",
    "winSigma = -1.\n",
    "histogramNormType = 0\n",
    "L2HysThreshold = 0.2\n",
    "gammaCorrection = 1\n",
    "nlevels = 64\n",
    "signedGradients = True\n",
    "\n",
    "hog = cv2.HOGDescriptor(winSize,blockSize,blockStride,cellSize,nbins,derivAperture,winSigma,histogramNormType,L2HysThreshold,gammaCorrection,nlevels,signedGradients)\n"
   ]
  },
  {
   "cell_type": "code",
   "execution_count": 5,
   "metadata": {
    "id": "1oqnAArQAXEe"
   },
   "outputs": [],
   "source": [
    "image_dict = {}\n",
    "def hash(feature,name,category):\n",
    "    #feature = np.array(feature)\n",
    "    feature = feature.flatten()\n",
    "    feature = tuple(feature)\n",
    "    l = image_dict.get(feature,[])\n",
    "    l.append((name,category))\n",
    "    image_dict[feature] = l"
   ]
  },
  {
   "cell_type": "code",
   "execution_count": 6,
   "metadata": {
    "id": "NY6SFyrHAXEe"
   },
   "outputs": [],
   "source": [
    "def euclidean(p1,p2):\n",
    "    p1,p2 = np.array(p1),np.array(p2)\n",
    "    return np.sqrt(np.sum(np.power(p2-p1,2)))"
   ]
  },
  {
   "cell_type": "code",
   "execution_count": 7,
   "metadata": {
    "id": "RLokSBG0AXEf"
   },
   "outputs": [],
   "source": [
    "datapath = 'Dataset/MedNIST'\n",
    "train_points,test_points,y_train,y_test = [],[],[],[]\n",
    "labels = ['AbdomenCT', 'BreastMRI', 'CXR', 'ChestCT', 'Hand', 'HeadCT']\n",
    "label_dict = {'AbdomenCT': 0, 'BreastMRI': 1, 'ChestCT': 2, 'CXR': 3, 'Hand': 4, 'HeadCT': 5}\n",
    "\n",
    "test_frac = 0.01\n",
    "num_total = 58954\n",
    "def dataloader(datapath):\n",
    "    for category in os.listdir(datapath):\n",
    "        path = os.path.join(datapath,category)\n",
    "        i = 1\n",
    "        for img_name in os.listdir(path):\n",
    "            img = os.path.join(path,img_name)\n",
    "            image = cv2.imread(img)\n",
    "            features = hog.compute(image)\n",
    "            hash(features,img,label_dict[category])\n",
    "            if i%100 == 0:\n",
    "                test_points.append(features)\n",
    "                y_test.append(label_dict[category])\n",
    "            else:\n",
    "                train_points.append(features)\n",
    "                y_train.append(label_dict[category])\n",
    "            i += 1"
   ]
  },
  {
   "cell_type": "code",
   "execution_count": 8,
   "metadata": {
    "id": "4U2nvu9xAXEf"
   },
   "outputs": [],
   "source": [
    "dataloader(datapath)"
   ]
  },
  {
   "cell_type": "code",
   "execution_count": 33,
   "metadata": {
    "colab": {
     "base_uri": "https://localhost:8080/"
    },
    "id": "bCJM0re3ByV_",
    "outputId": "c4819aaf-3d24-463f-fba4-eb6d2a83c10b"
   },
   "outputs": [
    {
     "name": "stdout",
     "output_type": "stream",
     "text": [
      "58365\n",
      "589\n",
      "441\n",
      "[[0.35841915]\n",
      " [0.35841915]\n",
      " [0.35841915]\n",
      " [0.23034844]\n",
      " [0.35841915]\n",
      " [0.35841915]\n",
      " [0.35841915]\n",
      " [0.21002105]\n",
      " [0.35841915]\n",
      " [0.3544818 ]\n",
      " [0.3544818 ]\n",
      " [0.3544818 ]\n",
      " [0.259398  ]\n",
      " [0.3544818 ]\n",
      " [0.3544818 ]\n",
      " [0.3544818 ]\n",
      " [0.22264265]\n",
      " [0.3544818 ]\n",
      " [0.37795207]\n",
      " [0.37795207]\n",
      " [0.31784904]\n",
      " [0.11328431]\n",
      " [0.37795207]\n",
      " [0.37795207]\n",
      " [0.37795207]\n",
      " [0.15898497]\n",
      " [0.37795207]\n",
      " [0.40649262]\n",
      " [0.23854853]\n",
      " [0.40649262]\n",
      " [0.21083716]\n",
      " [0.40649262]\n",
      " [0.13756114]\n",
      " [0.31252286]\n",
      " [0.3421152 ]\n",
      " [0.40649262]\n",
      " [0.36198056]\n",
      " [0.2208486 ]\n",
      " [0.36198056]\n",
      " [0.36198056]\n",
      " [0.36198056]\n",
      " [0.17435554]\n",
      " [0.36198056]\n",
      " [0.36198056]\n",
      " [0.36198056]\n",
      " [0.37223333]\n",
      " [0.13130867]\n",
      " [0.37223333]\n",
      " [0.37223333]\n",
      " [0.37223333]\n",
      " [0.09558115]\n",
      " [0.37223333]\n",
      " [0.37223333]\n",
      " [0.37223333]\n",
      " [0.3525141 ]\n",
      " [0.3412094 ]\n",
      " [0.3525141 ]\n",
      " [0.3525141 ]\n",
      " [0.3525141 ]\n",
      " [0.10095081]\n",
      " [0.3525141 ]\n",
      " [0.3525141 ]\n",
      " [0.3525141 ]\n",
      " [0.3616813 ]\n",
      " [0.3616813 ]\n",
      " [0.3616813 ]\n",
      " [0.28670457]\n",
      " [0.3616813 ]\n",
      " [0.2726618 ]\n",
      " [0.3616813 ]\n",
      " [0.23444013]\n",
      " [0.3616813 ]\n",
      " [0.36544684]\n",
      " [0.36544684]\n",
      " [0.36544684]\n",
      " [0.27063736]\n",
      " [0.36544684]\n",
      " [0.36544684]\n",
      " [0.36544684]\n",
      " [0.24261403]\n",
      " [0.25086722]\n",
      " [0.35685435]\n",
      " [0.35685435]\n",
      " [0.35685435]\n",
      " [0.27540708]\n",
      " [0.35685435]\n",
      " [0.35685435]\n",
      " [0.35685435]\n",
      " [0.2117867 ]\n",
      " [0.33415827]\n",
      " [0.33371702]\n",
      " [0.33174276]\n",
      " [0.33371702]\n",
      " [0.33371702]\n",
      " [0.33371702]\n",
      " [0.33371702]\n",
      " [0.3271744 ]\n",
      " [0.33371702]\n",
      " [0.33371702]\n",
      " [0.22167489]\n",
      " [0.13250846]\n",
      " [0.3658209 ]\n",
      " [0.3559455 ]\n",
      " [0.3658209 ]\n",
      " [0.3658209 ]\n",
      " [0.3658209 ]\n",
      " [0.3658209 ]\n",
      " [0.3658209 ]\n",
      " [0.28987482]\n",
      " [0.35727924]\n",
      " [0.35727924]\n",
      " [0.35727924]\n",
      " [0.35727924]\n",
      " [0.13734597]\n",
      " [0.35727924]\n",
      " [0.35727924]\n",
      " [0.35727924]\n",
      " [0.3646807 ]\n",
      " [0.3646807 ]\n",
      " [0.3646807 ]\n",
      " [0.23050949]\n",
      " [0.3646807 ]\n",
      " [0.11080515]\n",
      " [0.3646807 ]\n",
      " [0.3646807 ]\n",
      " [0.3646807 ]\n",
      " [0.36895525]\n",
      " [0.36895525]\n",
      " [0.36895525]\n",
      " [0.33297795]\n",
      " [0.25526676]\n",
      " [0.2656695 ]\n",
      " [0.36895525]\n",
      " [0.2627896 ]\n",
      " [0.36895525]\n",
      " [0.35357508]\n",
      " [0.35357508]\n",
      " [0.35357508]\n",
      " [0.35357508]\n",
      " [0.20322096]\n",
      " [0.34625033]\n",
      " [0.35357508]\n",
      " [0.35357508]\n",
      " [0.29186875]\n",
      " [0.3770379 ]\n",
      " [0.3770379 ]\n",
      " [0.3770379 ]\n",
      " [0.3770379 ]\n",
      " [0.3770379 ]\n",
      " [0.10775913]\n",
      " [0.16078503]\n",
      " [0.32530573]\n",
      " [0.3770379 ]\n",
      " [0.2428464 ]\n",
      " [0.20025994]\n",
      " [0.19771501]\n",
      " [0.37816495]\n",
      " [0.37816495]\n",
      " [0.37816495]\n",
      " [0.37816495]\n",
      " [0.37816495]\n",
      " [0.37816495]\n",
      " [0.34811017]\n",
      " [0.34811017]\n",
      " [0.3011427 ]\n",
      " [0.23993786]\n",
      " [0.34811017]\n",
      " [0.34811017]\n",
      " [0.34811017]\n",
      " [0.34811017]\n",
      " [0.34811017]\n",
      " [0.34592116]\n",
      " [0.34592116]\n",
      " [0.34592116]\n",
      " [0.34592116]\n",
      " [0.33467692]\n",
      " [0.21657552]\n",
      " [0.34592116]\n",
      " [0.34592116]\n",
      " [0.34592116]\n",
      " [0.26940957]\n",
      " [0.31137782]\n",
      " [0.3619788 ]\n",
      " [0.3619788 ]\n",
      " [0.3619788 ]\n",
      " [0.20167811]\n",
      " [0.3619788 ]\n",
      " [0.3619788 ]\n",
      " [0.3619788 ]\n",
      " [0.31997332]\n",
      " [0.39923126]\n",
      " [0.39923126]\n",
      " [0.3379002 ]\n",
      " [0.24857472]\n",
      " [0.10118224]\n",
      " [0.39923126]\n",
      " [0.39923126]\n",
      " [0.26435322]\n",
      " [0.40270987]\n",
      " [0.40270987]\n",
      " [0.40270987]\n",
      " [0.3180136 ]\n",
      " [0.1437809 ]\n",
      " [0.06510164]\n",
      " [0.40270987]\n",
      " [0.40270987]\n",
      " [0.24301603]\n",
      " [0.34391162]\n",
      " [0.34391162]\n",
      " [0.34391162]\n",
      " [0.34391162]\n",
      " [0.34391162]\n",
      " [0.22441526]\n",
      " [0.34391162]\n",
      " [0.34391162]\n",
      " [0.34391162]\n",
      " [0.35186473]\n",
      " [0.35186473]\n",
      " [0.21814682]\n",
      " [0.28676617]\n",
      " [0.35186473]\n",
      " [0.35186473]\n",
      " [0.35186473]\n",
      " [0.35186473]\n",
      " [0.35186473]\n",
      " [0.33691385]\n",
      " [0.33691385]\n",
      " [0.33691385]\n",
      " [0.33691385]\n",
      " [0.2975671 ]\n",
      " [0.33691385]\n",
      " [0.33691385]\n",
      " [0.33691385]\n",
      " [0.33691385]\n",
      " [0.3327787 ]\n",
      " [0.3327787 ]\n",
      " [0.3327787 ]\n",
      " [0.3327787 ]\n",
      " [0.3327787 ]\n",
      " [0.3327787 ]\n",
      " [0.3327787 ]\n",
      " [0.3327787 ]\n",
      " [0.3327787 ]\n",
      " [0.3577586 ]\n",
      " [0.267874  ]\n",
      " [0.3577586 ]\n",
      " [0.16950111]\n",
      " [0.3577586 ]\n",
      " [0.3577586 ]\n",
      " [0.3577586 ]\n",
      " [0.3577586 ]\n",
      " [0.3577586 ]\n",
      " [0.35149923]\n",
      " [0.35149923]\n",
      " [0.35149923]\n",
      " [0.35149923]\n",
      " [0.35149923]\n",
      " [0.24351986]\n",
      " [0.35149923]\n",
      " [0.35149923]\n",
      " [0.26893166]\n",
      " [0.35966328]\n",
      " [0.35966328]\n",
      " [0.35966328]\n",
      " [0.35966328]\n",
      " [0.27761516]\n",
      " [0.324196  ]\n",
      " [0.35966328]\n",
      " [0.35966328]\n",
      " [0.19515988]\n",
      " [0.3327787 ]\n",
      " [0.3327787 ]\n",
      " [0.3327787 ]\n",
      " [0.3327787 ]\n",
      " [0.3327787 ]\n",
      " [0.3327787 ]\n",
      " [0.3327787 ]\n",
      " [0.3327787 ]\n",
      " [0.3327787 ]\n",
      " [0.3436453 ]\n",
      " [0.3436453 ]\n",
      " [0.22766176]\n",
      " [0.3436453 ]\n",
      " [0.3436453 ]\n",
      " [0.3436453 ]\n",
      " [0.3436453 ]\n",
      " [0.3436453 ]\n",
      " [0.3436453 ]\n",
      " [0.34617087]\n",
      " [0.29101053]\n",
      " [0.34617087]\n",
      " [0.34617087]\n",
      " [0.34617087]\n",
      " [0.34617087]\n",
      " [0.34617087]\n",
      " [0.27021152]\n",
      " [0.34617087]\n",
      " [0.2636223 ]\n",
      " [0.3404229 ]\n",
      " [0.3404229 ]\n",
      " [0.3404229 ]\n",
      " [0.3404229 ]\n",
      " [0.3404229 ]\n",
      " [0.3404229 ]\n",
      " [0.3404229 ]\n",
      " [0.3404229 ]\n",
      " [0.29295453]\n",
      " [0.34899643]\n",
      " [0.34899643]\n",
      " [0.24104194]\n",
      " [0.34899643]\n",
      " [0.34899643]\n",
      " [0.34899643]\n",
      " [0.34899643]\n",
      " [0.34899643]\n",
      " [0.3216868 ]\n",
      " [0.34668684]\n",
      " [0.34668684]\n",
      " [0.34668684]\n",
      " [0.34668684]\n",
      " [0.22740136]\n",
      " [0.34668684]\n",
      " [0.34668684]\n",
      " [0.34668684]\n",
      " [0.3306576 ]\n",
      " [0.36827108]\n",
      " [0.36827108]\n",
      " [0.36827108]\n",
      " [0.36827108]\n",
      " [0.19458112]\n",
      " [0.19584894]\n",
      " [0.36421126]\n",
      " [0.36827108]\n",
      " [0.3362697 ]\n",
      " [0.3033509 ]\n",
      " [0.3362697 ]\n",
      " [0.3362697 ]\n",
      " [0.3362697 ]\n",
      " [0.3362697 ]\n",
      " [0.3362697 ]\n",
      " [0.3362697 ]\n",
      " [0.3362697 ]\n",
      " [0.17376405]\n",
      " [0.13990627]\n",
      " [0.2082823 ]\n",
      " [0.4076322 ]\n",
      " [0.4076322 ]\n",
      " [0.4076322 ]\n",
      " [0.4076322 ]\n",
      " [0.4076322 ]\n",
      " [0.26825085]\n",
      " [0.34754542]\n",
      " [0.2588972 ]\n",
      " [0.34754542]\n",
      " [0.34754542]\n",
      " [0.34754542]\n",
      " [0.34754542]\n",
      " [0.34754542]\n",
      " [0.34754542]\n",
      " [0.28980187]\n",
      " [0.37621382]\n",
      " [0.37621382]\n",
      " [0.37621382]\n",
      " [0.14395028]\n",
      " [0.37621382]\n",
      " [0.37621382]\n",
      " [0.37621382]\n",
      " [0.22756104]\n",
      " [0.27297363]\n",
      " [0.35239115]\n",
      " [0.35239115]\n",
      " [0.35239115]\n",
      " [0.12039191]\n",
      " [0.35239115]\n",
      " [0.35239115]\n",
      " [0.35239115]\n",
      " [0.3357503 ]\n",
      " [0.35239115]\n",
      " [0.35739562]\n",
      " [0.31699362]\n",
      " [0.35739562]\n",
      " [0.323661  ]\n",
      " [0.35739562]\n",
      " [0.212433  ]\n",
      " [0.35739562]\n",
      " [0.32772267]\n",
      " [0.35739562]\n",
      " [0.31855434]\n",
      " [0.19844909]\n",
      " [0.39236107]\n",
      " [0.39236107]\n",
      " [0.39236107]\n",
      " [0.13684203]\n",
      " [0.2583787 ]\n",
      " [0.39236107]\n",
      " [0.39236107]\n",
      " [0.33115476]\n",
      " [0.2027384 ]\n",
      " [0.35269433]\n",
      " [0.35269433]\n",
      " [0.35269433]\n",
      " [0.31519845]\n",
      " [0.35269433]\n",
      " [0.35269433]\n",
      " [0.35269433]\n",
      " [0.34252447]\n",
      " [0.34252447]\n",
      " [0.30929312]\n",
      " [0.28223127]\n",
      " [0.34252447]\n",
      " [0.34252447]\n",
      " [0.34252447]\n",
      " [0.34252447]\n",
      " [0.34252447]\n",
      " [0.3792431 ]\n",
      " [0.3792431 ]\n",
      " [0.20434175]\n",
      " [0.11161407]\n",
      " [0.3792431 ]\n",
      " [0.3792431 ]\n",
      " [0.3792431 ]\n",
      " [0.281151  ]\n",
      " [0.3792431 ]\n",
      " [0.34986043]\n",
      " [0.34986043]\n",
      " [0.34986043]\n",
      " [0.13232157]\n",
      " [0.34986043]\n",
      " [0.34986043]\n",
      " [0.34986043]\n",
      " [0.34954134]\n",
      " [0.34986043]\n",
      " [0.3460325 ]\n",
      " [0.3460325 ]\n",
      " [0.3460325 ]\n",
      " [0.24742243]\n",
      " [0.3460325 ]\n",
      " [0.3460325 ]\n",
      " [0.3460325 ]\n",
      " [0.31169775]\n",
      " [0.3460325 ]]\n"
     ]
    }
   ],
   "source": [
    "print(len(train_points))\n",
    "print(len(test_points))\n",
    "print(len(test_points[1]))\n",
    "print(test_points[1])"
   ]
  },
  {
   "cell_type": "code",
   "execution_count": 10,
   "metadata": {
    "id": "OtwIYaT8AXEg"
   },
   "outputs": [],
   "source": [
    "tree = VPTree(train_points,euclidean)"
   ]
  },
  {
   "cell_type": "code",
   "execution_count": 11,
   "metadata": {
    "id": "x6rM1M7nAXEg"
   },
   "outputs": [],
   "source": [
    "tree_path = 'HOGtree.pickle'\n",
    "f = open(tree_path, \"wb\")\n",
    "f.write(pickle.dumps(tree))\n",
    "f.close()\n",
    "           \n",
    "directory_path = 'HOGimage_directory.pickle'\n",
    "f = open(directory_path,\"wb\")\n",
    "f.write(pickle.dumps(image_dict))\n",
    "f.close()"
   ]
  },
  {
   "cell_type": "code",
   "execution_count": 12,
   "metadata": {
    "colab": {
     "base_uri": "https://localhost:8080/"
    },
    "id": "2JRvT2bOAXEg",
    "outputId": "ccd2f0c0-ed11-4eea-c78f-40a51ebb4d97"
   },
   "outputs": [
    {
     "name": "stderr",
     "output_type": "stream",
     "text": [
      "100%|██████████| 589/589 [06:01<00:00,  1.63it/s]\n"
     ]
    }
   ],
   "source": [
    "from tqdm import tqdm\n",
    "y_pred = []\n",
    "y_top_five = []\n",
    "for i in tqdm(range(len(test_points))):\n",
    "    query_features = test_points[i]\n",
    "    results = tree.get_n_nearest_neighbors(query_features,5)\n",
    "    temp = []\n",
    "    #h = results[1].flatten()\n",
    "    #h = tuple(h)\n",
    "    #resultPaths = image_dict.get(h,[])\n",
    "    #category = resultPaths[0][1]\n",
    "    #y_pred.append(category)\n",
    "    for (d,h) in results:\n",
    "        h  = h.flatten()\n",
    "        h = tuple(h)\n",
    "        resultPaths = image_dict.get(h,[])\n",
    "        category = resultPaths[0][1]\n",
    "        temp.append(category)\n",
    "        #y_pred.append(category)\n",
    "        y_top_five.append(temp)\n",
    "    y_pred.append(temp[0])"
   ]
  },
  {
   "cell_type": "code",
   "execution_count": 35,
   "metadata": {
    "colab": {
     "base_uri": "https://localhost:8080/"
    },
    "id": "gh5HJKMtFPhl",
    "outputId": "565ac36f-fbd1-47bd-b125-f4ecea26aa22"
   },
   "outputs": [
    {
     "name": "stdout",
     "output_type": "stream",
     "text": [
      "2945\n",
      "[[2, 2, 2, 2, 2], [2, 2, 2, 2, 2], [2, 2, 2, 2, 2], [2, 2, 2, 2, 2], [2, 2, 2, 2, 2]]\n",
      "[2, 2, 2, 2, 2, 2]\n"
     ]
    }
   ],
   "source": [
    "#print(len(y_top_five))\n",
    "#print(y_top_five[:5])\n",
    "#print(y_test[:6])\n",
    "#y_pred = []\n",
    "#for i in range(len(y_top_five)):\n",
    "#  if i%5 == 0:\n",
    "#    y_pred.append(y_top_five[i][0])\n"
   ]
  },
  {
   "cell_type": "code",
   "execution_count": 37,
   "metadata": {
    "colab": {
     "base_uri": "https://localhost:8080/"
    },
    "id": "NiBybe1iAXEh",
    "outputId": "71bc468e-8ee7-40e2-cd88-85ff108b1d59"
   },
   "outputs": [
    {
     "name": "stdout",
     "output_type": "stream",
     "text": [
      "              precision    recall  f1-score   support\n",
      "\n",
      "   AbdomenCT     1.0000    0.9900    0.9950       100\n",
      "   BreastMRI     1.0000    1.0000    1.0000        89\n",
      "         CXR     0.9901    1.0000    0.9950       100\n",
      "     ChestCT     1.0000    1.0000    1.0000       100\n",
      "        Hand     1.0000    1.0000    1.0000       100\n",
      "      HeadCT     1.0000    1.0000    1.0000       100\n",
      "\n",
      "    accuracy                         0.9983       589\n",
      "   macro avg     0.9983    0.9983    0.9983       589\n",
      "weighted avg     0.9983    0.9983    0.9983       589\n",
      "\n"
     ]
    }
   ],
   "source": [
    "from sklearn.metrics import classification_report\n",
    "print(classification_report(y_test, y_pred, target_names=labels, digits=4))"
   ]
  },
  {
   "cell_type": "code",
   "execution_count": 38,
   "metadata": {
    "colab": {
     "base_uri": "https://localhost:8080/"
    },
    "id": "uARGES9TMdhQ",
    "outputId": "249af718-6a4b-4e55-9c12-59bf75787994"
   },
   "outputs": [
    {
     "name": "stdout",
     "output_type": "stream",
     "text": [
      "[2, 2, 2, 2, 2, 2, 2, 2, 2, 2, 2, 2, 2, 2, 2, 2, 2, 2, 2, 2, 2, 2, 2, 2, 2, 2, 2, 2, 2, 2, 2, 2, 2, 2, 2, 2, 2, 2, 2, 2, 2, 2, 2, 2, 2, 2, 2, 2, 2, 2, 2, 2, 2, 2, 2, 2, 2, 2, 2, 2, 2, 2, 2, 2, 2, 2, 2, 2, 2, 2, 2, 2, 2, 2, 2, 2, 2, 2, 2, 2, 2, 2, 2, 2, 2, 2, 2, 2, 2, 2, 2, 2, 2, 2, 2, 2, 2, 2, 2, 2, 1, 1, 1, 1, 1, 1, 1, 1, 1, 1, 1, 1, 1, 1, 1, 1, 1, 1, 1, 1, 1, 1, 1, 1, 1, 1, 1, 1, 1, 1, 1, 1, 1, 1, 1, 1, 1, 1, 1, 1, 1, 1, 1, 1, 1, 1, 1, 1, 1, 1, 1, 1, 1, 1, 1, 1, 1, 1, 1, 1, 1, 1, 1, 1, 1, 1, 1, 1, 1, 1, 1, 1, 1, 1, 1, 1, 1, 1, 1, 1, 1, 1, 1, 1, 1, 1, 1, 1, 1, 3, 3, 3, 3, 3, 3, 3, 3, 3, 3, 3, 3, 3, 3, 3, 3, 3, 3, 3, 3, 3, 3, 3, 3, 3, 3, 3, 3, 3, 3, 3, 3, 3, 3, 3, 3, 3, 3, 3, 3, 3, 3, 3, 3, 3, 3, 3, 3, 3, 3, 3, 3, 3, 3, 3, 3, 3, 3, 3, 3, 3, 3, 3, 3, 3, 3, 3, 3, 3, 3, 3, 3, 3, 3, 3, 3, 3, 3, 3, 3, 3, 3, 3, 3, 3, 3, 3, 3, 3, 3, 3, 3, 3, 3, 3, 3, 3, 3, 3, 3, 0, 0, 0, 0, 0, 0, 0, 0, 0, 0, 0, 0, 0, 0, 0, 0, 0, 0, 0, 0, 0, 0, 0, 0, 0, 0, 0, 0, 0, 0, 0, 0, 0, 0, 0, 0, 0, 0, 0, 0, 0, 0, 0, 0, 0, 0, 0, 0, 0, 0, 0, 0, 0, 0, 0, 0, 0, 0, 0, 0, 0, 0, 0, 0, 0, 0, 0, 0, 0, 0, 0, 0, 0, 0, 0, 0, 0, 0, 0, 0, 0, 0, 0, 0, 0, 0, 0, 0, 0, 0, 0, 0, 0, 0, 0, 0, 0, 0, 0, 0, 5, 5, 5, 5, 5, 5, 5, 5, 5, 5, 5, 5, 5, 5, 5, 5, 5, 5, 5, 5, 5, 5, 5, 5, 5, 5, 5, 5, 5, 5, 5, 5, 5, 5, 5, 5, 5, 5, 5, 5, 5, 5, 5, 5, 5, 5, 5, 5, 5, 5, 5, 5, 5, 5, 5, 5, 5, 5, 5, 5, 5, 5, 5, 5, 5, 5, 5, 5, 5, 5, 5, 5, 5, 5, 5, 5, 5, 5, 5, 5, 5, 5, 5, 5, 5, 5, 5, 5, 5, 5, 5, 5, 5, 5, 5, 5, 5, 5, 5, 5, 4, 4, 4, 4, 4, 4, 4, 4, 4, 4, 4, 4, 4, 4, 4, 4, 4, 4, 4, 4, 4, 4, 4, 4, 4, 4, 4, 4, 4, 4, 4, 4, 4, 4, 4, 4, 4, 4, 4, 4, 4, 4, 4, 4, 4, 4, 4, 4, 4, 4, 4, 4, 4, 4, 4, 4, 4, 4, 4, 4, 4, 4, 4, 4, 4, 4, 4, 4, 4, 4, 4, 4, 4, 4, 4, 4, 4, 4, 4, 4, 4, 4, 4, 4, 4, 4, 4, 4, 4, 4, 4, 4, 4, 4, 4, 4, 4, 4, 4, 4]\n"
     ]
    }
   ],
   "source": [
    "print(y_test)"
   ]
  },
  {
   "cell_type": "code",
   "execution_count": 39,
   "metadata": {
    "colab": {
     "base_uri": "https://localhost:8080/"
    },
    "id": "-BZereItMgr0",
    "outputId": "ee29a5d2-c096-4474-f665-ab2cf59f71ed"
   },
   "outputs": [
    {
     "name": "stdout",
     "output_type": "stream",
     "text": [
      "[2, 2, 2, 2, 2, 2, 2, 2, 2, 2, 2, 2, 2, 2, 2, 2, 2, 2, 2, 2, 2, 2, 2, 2, 2, 2, 2, 2, 2, 2, 2, 2, 2, 2, 2, 2, 2, 2, 2, 2, 2, 2, 2, 2, 2, 2, 2, 2, 2, 2, 2, 2, 2, 2, 2, 2, 2, 2, 2, 2, 2, 2, 2, 2, 2, 2, 2, 2, 2, 2, 2, 2, 2, 2, 2, 2, 2, 2, 2, 2, 2, 2, 2, 2, 2, 2, 2, 2, 2, 2, 2, 2, 2, 2, 2, 2, 2, 2, 2, 2, 1, 1, 1, 1, 1, 1, 1, 1, 1, 1, 1, 1, 1, 1, 1, 1, 1, 1, 1, 1, 1, 1, 1, 1, 1, 1, 1, 1, 1, 1, 1, 1, 1, 1, 1, 1, 1, 1, 1, 1, 1, 1, 1, 1, 1, 1, 1, 1, 1, 1, 1, 1, 1, 1, 1, 1, 1, 1, 1, 1, 1, 1, 1, 1, 1, 1, 1, 1, 1, 1, 1, 1, 1, 1, 1, 1, 1, 1, 1, 1, 1, 1, 1, 1, 1, 1, 1, 1, 1, 3, 3, 3, 3, 3, 3, 3, 3, 3, 3, 3, 3, 3, 3, 3, 3, 3, 3, 3, 3, 3, 3, 3, 3, 3, 3, 3, 3, 3, 3, 3, 3, 3, 3, 3, 3, 3, 3, 3, 3, 3, 3, 3, 3, 3, 3, 3, 3, 3, 3, 3, 3, 3, 3, 3, 3, 3, 3, 3, 3, 3, 3, 3, 3, 3, 3, 3, 3, 3, 3, 3, 3, 3, 3, 3, 3, 3, 3, 3, 3, 3, 3, 3, 3, 3, 3, 3, 3, 3, 3, 3, 3, 3, 3, 3, 3, 3, 3, 3, 3, 0, 0, 0, 0, 0, 0, 0, 0, 0, 0, 0, 0, 0, 0, 0, 2, 0, 0, 0, 0, 0, 0, 0, 0, 0, 0, 0, 0, 0, 0, 0, 0, 0, 0, 0, 0, 0, 0, 0, 0, 0, 0, 0, 0, 0, 0, 0, 0, 0, 0, 0, 0, 0, 0, 0, 0, 0, 0, 0, 0, 0, 0, 0, 0, 0, 0, 0, 0, 0, 0, 0, 0, 0, 0, 0, 0, 0, 0, 0, 0, 0, 0, 0, 0, 0, 0, 0, 0, 0, 0, 0, 0, 0, 0, 0, 0, 0, 0, 0, 0, 5, 5, 5, 5, 5, 5, 5, 5, 5, 5, 5, 5, 5, 5, 5, 5, 5, 5, 5, 5, 5, 5, 5, 5, 5, 5, 5, 5, 5, 5, 5, 5, 5, 5, 5, 5, 5, 5, 5, 5, 5, 5, 5, 5, 5, 5, 5, 5, 5, 5, 5, 5, 5, 5, 5, 5, 5, 5, 5, 5, 5, 5, 5, 5, 5, 5, 5, 5, 5, 5, 5, 5, 5, 5, 5, 5, 5, 5, 5, 5, 5, 5, 5, 5, 5, 5, 5, 5, 5, 5, 5, 5, 5, 5, 5, 5, 5, 5, 5, 5, 4, 4, 4, 4, 4, 4, 4, 4, 4, 4, 4, 4, 4, 4, 4, 4, 4, 4, 4, 4, 4, 4, 4, 4, 4, 4, 4, 4, 4, 4, 4, 4, 4, 4, 4, 4, 4, 4, 4, 4, 4, 4, 4, 4, 4, 4, 4, 4, 4, 4, 4, 4, 4, 4, 4, 4, 4, 4, 4, 4, 4, 4, 4, 4, 4, 4, 4, 4, 4, 4, 4, 4, 4, 4, 4, 4, 4, 4, 4, 4, 4, 4, 4, 4, 4, 4, 4, 4, 4, 4, 4, 4, 4, 4, 4, 4, 4, 4, 4, 4]\n"
     ]
    }
   ],
   "source": [
    "print(y_pred)"
   ]
  },
  {
   "cell_type": "code",
   "execution_count": 40,
   "metadata": {
    "id": "6t6uevbjOf71"
   },
   "outputs": [],
   "source": [
    "missclassified = []\n",
    "for i in range(len(y_test)):\n",
    "  if y_test[i] != y_pred[i]:\n",
    "    missclassified.append((i,y_test[i],y_pred[i]))"
   ]
  },
  {
   "cell_type": "code",
   "execution_count": 41,
   "metadata": {
    "colab": {
     "base_uri": "https://localhost:8080/"
    },
    "id": "_g4yXQF_O1D9",
    "outputId": "109e516e-e989-402d-9998-4faab264174a"
   },
   "outputs": [
    {
     "name": "stdout",
     "output_type": "stream",
     "text": [
      "[(304, 0, 2)]\n"
     ]
    }
   ],
   "source": [
    "print(missclassified)"
   ]
  },
  {
   "cell_type": "code",
   "execution_count": 43,
   "metadata": {
    "colab": {
     "base_uri": "https://localhost:8080/"
    },
    "id": "zKu5JzIiPJRj",
    "outputId": "9d83915a-1d45-41ac-a43f-1ea42ce5d3d6"
   },
   "outputs": [
    {
     "name": "stdout",
     "output_type": "stream",
     "text": [
      "[0, 0, 0, 0, 0, 0, 0, 0, 0, 0]\n"
     ]
    }
   ],
   "source": [
    "print(y_test[300:310])"
   ]
  },
  {
   "cell_type": "code",
   "execution_count": 44,
   "metadata": {
    "colab": {
     "base_uri": "https://localhost:8080/"
    },
    "id": "FEgCbLjHPR_7",
    "outputId": "7bb78d8d-eb57-4c25-fd95-9e12b7f12a29"
   },
   "outputs": [
    {
     "name": "stdout",
     "output_type": "stream",
     "text": [
      "[0, 0, 0, 0, 2, 0, 0, 0, 0, 0]\n"
     ]
    }
   ],
   "source": [
    "print(y_pred[300:310])"
   ]
  },
  {
   "cell_type": "code",
   "execution_count": 46,
   "metadata": {
    "id": "MqtNWTVYPkEJ"
   },
   "outputs": [],
   "source": [
    "feature = test_points[304]\n",
    "feature = feature.flatten()\n",
    "feature = tuple(feature)\n",
    "paths = image_dict.get(feature,[])\n",
    "path = paths[0][0]"
   ]
  },
  {
   "cell_type": "code",
   "execution_count": 47,
   "metadata": {
    "colab": {
     "base_uri": "https://localhost:8080/",
     "height": 81
    },
    "id": "UQj6SB6HQySl",
    "outputId": "1c44f222-0036-4d5c-c362-ae61fc827713"
   },
   "outputs": [
    {
     "data": {
      "image/png": "[encoded data removed]",
      "text/plain": [
       "<PIL.Image.Image image mode=RGB size=64x64 at 0x7F94DC937190>"
      ]
     },
     "metadata": {
      "tags": []
     },
     "output_type": "display_data"
    }
   ],
   "source": [
    "miss_image = cv2.imread(path)\n",
    "cv2_imshow(miss_image)"
   ]
  },
  {
   "cell_type": "code",
   "execution_count": 49,
   "metadata": {
    "colab": {
     "base_uri": "https://localhost:8080/"
    },
    "id": "MoYsFlqbRUNH",
    "outputId": "0c548814-a248-4bce-9fde-a3ac49a3e668"
   },
   "outputs": [
    {
     "name": "stdout",
     "output_type": "stream",
     "text": [
      "Dataset/MedNIST/AbdomenCT/000959.jpeg\n",
      "[2, 2, 2, 2, 0]\n"
     ]
    }
   ],
   "source": [
    "print(path)\n",
    "print(y_top_five[1520])"
   ]
  }
 ],
 "metadata": {
  "colab": {
   "collapsed_sections": [],
   "name": "MedNIST.ipynb",
   "provenance": []
  },
  "kernelspec": {
   "display_name": "Python 3",
   "language": "python",
   "name": "python3"
  },
  "language_info": {
   "codemirror_mode": {
    "name": "ipython",
    "version": 3
   },
   "file_extension": ".py",
   "mimetype": "text/x-python",
   "name": "python",
   "nbconvert_exporter": "python",
   "pygments_lexer": "ipython3",
   "version": "3.7.7"
  }
 },
 "nbformat": 4,
 "nbformat_minor": 1
}
